{
 "cells": [
  {
   "cell_type": "code",
   "execution_count": 1,
   "metadata": {},
   "outputs": [],
   "source": [
    "# last run on 04/04/2020 21:00:00\n",
    "# last run on 04/06/2020 10:00:00\n",
    "# last run on 04/07/2020 11:00:00\n",
    "# last run on 04/08/2020 13:20:00\n",
    "# last run on 04/09/2020 14:14:00\n",
    "# last run on 04/10/2020 14:34:00\n",
    "# last run on 04/11/2020 22:06:00\n",
    "# last run on 04/13/2020 13:28:00\n",
    "# last run on 04/15/2020 13:56:00\n",
    "# last run on 04/16/2020 15:04:00\n",
    "# last run on 04/18/2020 00:17:00\n",
    "# last run on 04/18/2020 15:42:00\n",
    "# last run on 04/21/2020 23:05:00\n",
    "# last run on 04/22/2020 23:13:00\n",
    "# last run on 04/27/2020 16:49:00\n",
    "# last run on 05/08/2020 11:25:00"
   ]
  },
  {
   "cell_type": "code",
   "execution_count": 2,
   "metadata": {},
   "outputs": [],
   "source": [
    "import pandas as pd\n",
    "import geopandas as gpd"
   ]
  },
  {
   "cell_type": "code",
   "execution_count": 3,
   "metadata": {},
   "outputs": [],
   "source": [
    "# retrieve data of confirmed cases\n",
    "url1 = 'https://raw.githubusercontent.com/CSSEGISandData/COVID-19/master/csse_covid_19_data/csse_covid_19_time_series/time_series_covid19_confirmed_US.csv'\n",
    "US_confirmed = pd.read_csv(url1, dtype={'UID': str})"
   ]
  },
  {
   "cell_type": "code",
   "execution_count": 4,
   "metadata": {},
   "outputs": [],
   "source": [
    "# retrieve data of deaths\n",
    "url2 = 'https://raw.githubusercontent.com/CSSEGISandData/COVID-19/master/csse_covid_19_data/csse_covid_19_time_series/time_series_covid19_deaths_US.csv'\n",
    "US_death = pd.read_csv(url2, dtype={'UID': str})"
   ]
  },
  {
   "cell_type": "code",
   "execution_count": 5,
   "metadata": {},
   "outputs": [],
   "source": [
    "# extract data from PA, MI,and NY\n",
    "#PA_confirmed = US_confirmed[US_confirmed.UID.str.contains('84042')]\n",
    "#MI_confirmed = US_confirmed[US_confirmed.UID.str.contains('84026')]\n",
    "#NY_confirmed = US_confirmed[US_confirmed.UID.str.contains('84036')]\n",
    "PA_MI_NY_confirmed = US_confirmed[US_confirmed['UID'].str.contains('84042|84026|84036', na=False)]\n",
    "PA_MI_NY_death = US_death[US_death['UID'].str.contains('84042|84026|84036', na=False)]"
   ]
  },
  {
   "cell_type": "code",
   "execution_count": 6,
   "metadata": {},
   "outputs": [],
   "source": [
    "# remove additional columns\n",
    "#PA_confirmed = PA_confirmed.iloc[:,[5]+list(range(11, len(PA_confirmed.columns), 1))]\n",
    "#MI_confirmed = MI_confirmed.iloc[:,[5]+list(range(11, len(MI_confirmed.columns), 1))]\n",
    "#NY_confirmed = NY_confirmed.iloc[:,[5]+list(range(11, len(NY_confirmed.columns), 1))]\n",
    "PA_MI_NY_confirmed = PA_MI_NY_confirmed.iloc[:,[5,6,-1]]\n",
    "PA_MI_NY_death = PA_MI_NY_death.iloc[:,[5,6,-1]]"
   ]
  },
  {
   "cell_type": "code",
   "execution_count": 7,
   "metadata": {},
   "outputs": [],
   "source": [
    "date = PA_MI_NY_confirmed.columns[2]"
   ]
  },
  {
   "cell_type": "code",
   "execution_count": 8,
   "metadata": {},
   "outputs": [],
   "source": [
    "# rename column names\n",
    "PA_MI_NY_confirmed.rename(columns={'Admin2': 'County', 'Province_State': 'State', \n",
    "                                   PA_MI_NY_confirmed.columns[2]: 'confirmed_cases'}, inplace=True)\n",
    "PA_MI_NY_death.rename(columns={'Admin2': 'County', 'Province_State': 'State', \n",
    "                               PA_MI_NY_death.columns[2]: 'deaths'}, inplace=True)"
   ]
  },
  {
   "cell_type": "code",
   "execution_count": 9,
   "metadata": {},
   "outputs": [],
   "source": [
    "PA_MI_NY_confirmed['Date'] = date\n",
    "PA_MI_NY_death['Date'] = date"
   ]
  },
  {
   "cell_type": "code",
   "execution_count": 10,
   "metadata": {},
   "outputs": [],
   "source": [
    "# convert time column to time type\n",
    "PA_MI_NY_confirmed['Date'] = pd.to_datetime(PA_MI_NY_confirmed['Date'])\n",
    "PA_MI_NY_death['Date'] = pd.to_datetime(PA_MI_NY_death['Date'])"
   ]
  },
  {
   "cell_type": "code",
   "execution_count": 11,
   "metadata": {},
   "outputs": [],
   "source": [
    "PA_MI_NY_confirmed['State'].replace({\"Pennsylvania\": \"PA\", \"Michigan\": \"MI\", \"New York\": \"NY\"}, inplace=True)\n",
    "PA_MI_NY_death['State'].replace({\"Pennsylvania\": \"PA\", \"Michigan\": \"MI\", \"New York\": \"NY\"}, inplace=True)"
   ]
  },
  {
   "cell_type": "code",
   "execution_count": 12,
   "metadata": {},
   "outputs": [],
   "source": [
    "# import county boundary geojson file\n",
    "PA_county = gpd.read_file('../jaywt.github.io/covid19/county_boundary/PA_County.geojson')\n",
    "MI_county = gpd.read_file('../jaywt.github.io/covid19/county_boundary/MI_County.geojson')\n",
    "NY_county = gpd.read_file('../jaywt.github.io/covid19/county_boundary/NY_County.geojson')"
   ]
  },
  {
   "cell_type": "code",
   "execution_count": 13,
   "metadata": {},
   "outputs": [],
   "source": [
    "PA_MI_NY_boundary = pd.concat([PA_county, MI_county, NY_county], ignore_index=True)"
   ]
  },
  {
   "cell_type": "code",
   "execution_count": 14,
   "metadata": {},
   "outputs": [],
   "source": [
    "# remove additional columns in geojson\n",
    "PA_MI_NY_boundary = PA_MI_NY_boundary.iloc[:,[2,6,19]]"
   ]
  },
  {
   "cell_type": "code",
   "execution_count": 15,
   "metadata": {},
   "outputs": [],
   "source": [
    "PA_MI_NY_boundary.rename(columns={'name': 'County', 'stusab': 'State', 'geometry': 'geometry'}, inplace=True)"
   ]
  },
  {
   "cell_type": "code",
   "execution_count": 16,
   "metadata": {},
   "outputs": [],
   "source": [
    "# merge number of cases file into geojson\n",
    "PA_MI_NY_data = PA_MI_NY_boundary.merge(PA_MI_NY_confirmed, on=['County','State'])\n",
    "PA_MI_NY_death_data = PA_MI_NY_boundary.merge(PA_MI_NY_death, on=['County','State'])"
   ]
  },
  {
   "cell_type": "code",
   "execution_count": 17,
   "metadata": {},
   "outputs": [],
   "source": [
    "PA_MI_NY_data.to_file(\"../jaywt.github.io/covid19/PA_MI_NY_latest_confirmed.geojson\", driver='GeoJSON')"
   ]
  },
  {
   "cell_type": "code",
   "execution_count": 18,
   "metadata": {},
   "outputs": [],
   "source": [
    "PA_MI_NY_death_data.to_file(\"../jaywt.github.io/covid19/PA_MI_NY_latest_death.geojson\", driver='GeoJSON')"
   ]
  },
  {
   "cell_type": "code",
   "execution_count": 19,
   "metadata": {},
   "outputs": [],
   "source": [
    "#########################\n",
    "# codes bin\n",
    "#########################\n",
    "# convert from wide to long format\n",
    "# PA_confirmed_long = pd.melt(PA_confirmed, id_vars=['Admin2'])\n",
    "\n",
    "# PA_confirmed_long['time'] = PA_confirmed_long['time'].dt.strftime('%Y-%m-%d'+'T00:00:00')\n",
    "\n",
    "# PA_county.to_file(\"PA_county_cases.geojson\", driver='GeoJSON')\n",
    "\n",
    "# PA_test = PA_county[PA_county['time'].isin(['2020-04-01T00:00:00', '2020-04-02T00:00:00'])]\n",
    "# PA_test.to_file(\"PA_county_twodayscases.geojson\", driver='GeoJSON')"
   ]
  }
 ],
 "metadata": {
  "kernelspec": {
   "display_name": "Python 3",
   "language": "python",
   "name": "python3"
  },
  "language_info": {
   "codemirror_mode": {
    "name": "ipython",
    "version": 3
   },
   "file_extension": ".py",
   "mimetype": "text/x-python",
   "name": "python",
   "nbconvert_exporter": "python",
   "pygments_lexer": "ipython3",
   "version": "3.7.1"
  }
 },
 "nbformat": 4,
 "nbformat_minor": 4
}
